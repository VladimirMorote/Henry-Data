{
  "cells": [
    {
      "cell_type": "markdown",
      "metadata": {
        "id": "view-in-github",
        "colab_type": "text"
      },
      "source": [
        "<a href=\"https://colab.research.google.com/github/VladimirMorote/Henry-Data/blob/main/Homework_Resuelto.ipynb\" target=\"_parent\"><img src=\"https://colab.research.google.com/assets/colab-badge.svg\" alt=\"Open In Colab\"/></a>"
      ]
    },
    {
      "cell_type": "markdown",
      "metadata": {
        "id": "eHJs2XplTJT2"
      },
      "source": [
        "# Práctica Clase 3"
      ]
    },
    {
      "cell_type": "markdown",
      "metadata": {
        "id": "Tp3xTRLnTJT9"
      },
      "source": [
        "## Numpy"
      ]
    },
    {
      "cell_type": "code",
      "execution_count": null,
      "metadata": {
        "id": "xWgrdwjoTJT-"
      },
      "outputs": [],
      "source": [
        "import numpy as np"
      ]
    },
    {
      "cell_type": "markdown",
      "metadata": {
        "id": "0fZKqxeqTJUA"
      },
      "source": [
        "**Ejercicio 1**: Responder las siguientes preguntas:\n",
        "* ¿Qué operaciones se pueden hacer tanto en un arreglo de Numpy como en una lista? Dar un ejemplo en una celda.\n",
        "* ¿Qué operaciones se pueden hacer en un arreglo de Numpy pero NO en una lista? Explorar algunas opciones y dar un ejemplo en una celda.\n",
        "* ¿Cuál es la diferencia entre un arreglo de forma -shape- (n,), (n,1) y (1,n)? Pueden crear arreglos para intentar responder esa pregunta."
      ]
    },
    {
      "cell_type": "markdown",
      "metadata": {
        "id": "Z1C0hdWTTJUB"
      },
      "source": [
        "A partir de una lista podemos crear un arreglo de numpy"
      ]
    },
    {
      "cell_type": "code",
      "execution_count": null,
      "metadata": {
        "id": "PxKQkKOtTJUC",
        "outputId": "795c9a42-7faf-464f-a21d-4fe067a54a87"
      },
      "outputs": [
        {
          "name": "stdout",
          "output_type": "stream",
          "text": [
            "[0, 1, 2, 3, 4, 5]\n",
            "[0 1 2 3 4 5]\n"
          ]
        }
      ],
      "source": [
        "lista = [0,1,2,3,4,5]\n",
        "arreglo = np.array(lista)\n",
        "print(lista)\n",
        "print(arreglo)"
      ]
    },
    {
      "cell_type": "markdown",
      "metadata": {
        "id": "CNG0aCbqTJUE"
      },
      "source": [
        "Pero para algunos casos numpy tiene funciones que crean listas más rápidamente."
      ]
    },
    {
      "cell_type": "code",
      "execution_count": null,
      "metadata": {
        "id": "wgKrFTiKTJUF",
        "outputId": "a66b28e8-e42f-498d-8085-07f2a0dc80cc"
      },
      "outputs": [
        {
          "name": "stdout",
          "output_type": "stream",
          "text": [
            "[0 1 2 3 4 5 6 7]\n"
          ]
        }
      ],
      "source": [
        "arreglo = np.arange(8)\n",
        "print(arreglo)"
      ]
    },
    {
      "cell_type": "markdown",
      "metadata": {
        "id": "QZxBeZEyTJUH"
      },
      "source": [
        "Algunas cosas que se pueden hacer con arreglos pero no con las listas:\n",
        "\n",
        "1. Sumarle un mismo elemento"
      ]
    },
    {
      "cell_type": "code",
      "execution_count": null,
      "metadata": {
        "id": "uo8pYkNLTJUI",
        "outputId": "88769f48-ffe0-442e-851e-42cca1185ba7"
      },
      "outputs": [
        {
          "ename": "TypeError",
          "evalue": "can only concatenate list (not \"int\") to list",
          "output_type": "error",
          "traceback": [
            "\u001b[1;31m---------------------------------------------------------------------------\u001b[0m",
            "\u001b[1;31mTypeError\u001b[0m                                 Traceback (most recent call last)",
            "\u001b[1;32m~\\AppData\\Local\\Temp/ipykernel_23612/807820878.py\u001b[0m in \u001b[0;36m<module>\u001b[1;34m\u001b[0m\n\u001b[1;32m----> 1\u001b[1;33m \u001b[0mlista\u001b[0m \u001b[1;33m+\u001b[0m \u001b[1;36m1\u001b[0m\u001b[1;33m\u001b[0m\u001b[1;33m\u001b[0m\u001b[0m\n\u001b[0m",
            "\u001b[1;31mTypeError\u001b[0m: can only concatenate list (not \"int\") to list"
          ]
        }
      ],
      "source": [
        "lista + 1"
      ]
    },
    {
      "cell_type": "code",
      "execution_count": null,
      "metadata": {
        "id": "8QjKqVfSTJUJ"
      },
      "outputs": [],
      "source": [
        "arreglo = arreglo + 1"
      ]
    },
    {
      "cell_type": "code",
      "execution_count": null,
      "metadata": {
        "id": "trTLTAZbTJUK",
        "outputId": "16c02401-381b-45fc-ad06-863ce6ffa281"
      },
      "outputs": [
        {
          "data": {
            "text/plain": [
              "array([1, 2, 3, 4, 5, 6, 7, 8])"
            ]
          },
          "execution_count": 7,
          "metadata": {},
          "output_type": "execute_result"
        }
      ],
      "source": [
        "arreglo"
      ]
    },
    {
      "cell_type": "markdown",
      "metadata": {
        "id": "fJwcs1NZTJUL"
      },
      "source": [
        "2. Elevar al cuadrado todos los elementos"
      ]
    },
    {
      "cell_type": "code",
      "execution_count": null,
      "metadata": {
        "id": "TZexc58pTJUL",
        "outputId": "c4eef2a7-8d65-4d49-ecca-fd4925a4f74c"
      },
      "outputs": [
        {
          "ename": "TypeError",
          "evalue": "unsupported operand type(s) for ** or pow(): 'list' and 'int'",
          "output_type": "error",
          "traceback": [
            "\u001b[1;31m---------------------------------------------------------------------------\u001b[0m",
            "\u001b[1;31mTypeError\u001b[0m                                 Traceback (most recent call last)",
            "\u001b[1;32m~\\AppData\\Local\\Temp/ipykernel_23612/1350568419.py\u001b[0m in \u001b[0;36m<module>\u001b[1;34m\u001b[0m\n\u001b[1;32m----> 1\u001b[1;33m \u001b[0mlista\u001b[0m\u001b[1;33m**\u001b[0m\u001b[1;36m2\u001b[0m\u001b[1;33m\u001b[0m\u001b[1;33m\u001b[0m\u001b[0m\n\u001b[0m",
            "\u001b[1;31mTypeError\u001b[0m: unsupported operand type(s) for ** or pow(): 'list' and 'int'"
          ]
        }
      ],
      "source": [
        "lista**2"
      ]
    },
    {
      "cell_type": "code",
      "execution_count": null,
      "metadata": {
        "id": "w9JQ8lAdTJUM",
        "outputId": "02c62663-ef5e-4227-ff32-f386bd3ec9bc"
      },
      "outputs": [
        {
          "data": {
            "text/plain": [
              "array([ 1,  4,  9, 16, 25, 36, 49, 64], dtype=int32)"
            ]
          },
          "execution_count": 9,
          "metadata": {},
          "output_type": "execute_result"
        }
      ],
      "source": [
        "arreglo**2"
      ]
    },
    {
      "cell_type": "markdown",
      "metadata": {
        "id": "zem2YhPJTJUM"
      },
      "source": [
        "3. Sumar todos los elementos"
      ]
    },
    {
      "cell_type": "code",
      "execution_count": null,
      "metadata": {
        "id": "09SX_wA8TJUN",
        "outputId": "84cc0979-483f-4d8f-d772-f95e00430a1f"
      },
      "outputs": [
        {
          "name": "stdout",
          "output_type": "stream",
          "text": [
            "36\n"
          ]
        },
        {
          "ename": "AttributeError",
          "evalue": "'list' object has no attribute 'sum'",
          "output_type": "error",
          "traceback": [
            "\u001b[1;31m---------------------------------------------------------------------------\u001b[0m",
            "\u001b[1;31mAttributeError\u001b[0m                            Traceback (most recent call last)",
            "\u001b[1;32m~\\AppData\\Local\\Temp/ipykernel_23612/1020896401.py\u001b[0m in \u001b[0;36m<module>\u001b[1;34m\u001b[0m\n\u001b[0;32m      1\u001b[0m \u001b[0mprint\u001b[0m\u001b[1;33m(\u001b[0m\u001b[0marreglo\u001b[0m\u001b[1;33m.\u001b[0m\u001b[0msum\u001b[0m\u001b[1;33m(\u001b[0m\u001b[1;33m)\u001b[0m\u001b[1;33m)\u001b[0m\u001b[1;33m\u001b[0m\u001b[1;33m\u001b[0m\u001b[0m\n\u001b[1;32m----> 2\u001b[1;33m \u001b[0mprint\u001b[0m\u001b[1;33m(\u001b[0m\u001b[0mlista\u001b[0m\u001b[1;33m.\u001b[0m\u001b[0msum\u001b[0m\u001b[1;33m(\u001b[0m\u001b[1;33m)\u001b[0m\u001b[1;33m)\u001b[0m\u001b[1;33m\u001b[0m\u001b[1;33m\u001b[0m\u001b[0m\n\u001b[0m",
            "\u001b[1;31mAttributeError\u001b[0m: 'list' object has no attribute 'sum'"
          ]
        }
      ],
      "source": [
        "print(arreglo.sum())\n",
        "print(lista.sum())"
      ]
    },
    {
      "cell_type": "code",
      "execution_count": null,
      "metadata": {
        "id": "PZyCP0NHTJUN",
        "outputId": "9a6ded30-5036-473c-ad31-c00619b1b226"
      },
      "outputs": [
        {
          "name": "stdout",
          "output_type": "stream",
          "text": [
            "15\n"
          ]
        }
      ],
      "source": [
        "n = 0\n",
        "for e in lista:\n",
        "    n = n + e\n",
        "print(n)"
      ]
    },
    {
      "cell_type": "code",
      "execution_count": null,
      "metadata": {
        "id": "KZumkgeyTJUO",
        "outputId": "17377dd1-2ada-44ba-c116-211ba0550a8a"
      },
      "outputs": [
        {
          "data": {
            "text/plain": [
              "(6,)"
            ]
          },
          "execution_count": 12,
          "metadata": {},
          "output_type": "execute_result"
        }
      ],
      "source": [
        "arreglo.shape"
      ]
    },
    {
      "cell_type": "code",
      "execution_count": null,
      "metadata": {
        "id": "2GEWvpITTJUP",
        "outputId": "35e743fc-3db1-4481-9713-f4ea479d5b4a"
      },
      "outputs": [
        {
          "name": "stdout",
          "output_type": "stream",
          "text": [
            "[[1 2 3 4 5 6]\n",
            " [1 2 3 4 5 6]\n",
            " [1 2 3 4 5 6]] . Shape = (3, 6) \n",
            "\n"
          ]
        }
      ],
      "source": [
        "arreglo = np.array([[1,2,3,4,5,6],[1,2,3,4,5,6],[1,2,3,4,5,6]]) #notar los corchetes extras\n",
        "print(arreglo,'. Shape =', arreglo.shape, \"\\n\")"
      ]
    },
    {
      "cell_type": "code",
      "execution_count": null,
      "metadata": {
        "id": "jRzlTiRITJUP",
        "outputId": "4d89e621-3a29-4a9f-8f38-e7fc04a2227e"
      },
      "outputs": [
        {
          "name": "stdout",
          "output_type": "stream",
          "text": [
            "[[1 2 3 4 5 6]] . Shape = (1, 6) \n",
            "\n"
          ]
        }
      ],
      "source": [
        "arreglo = np.array([[1,2,3,4,5,6]]) #notar los corchetes extras\n",
        "print(arreglo,'. Shape =', arreglo.shape, \"\\n\")"
      ]
    },
    {
      "cell_type": "code",
      "execution_count": null,
      "metadata": {
        "id": "kLMWpGjlTJUQ",
        "outputId": "1c9f2d09-5ff7-4b89-8263-5879b21026c4"
      },
      "outputs": [
        {
          "name": "stdout",
          "output_type": "stream",
          "text": [
            "[[1]\n",
            " [2]\n",
            " [3]\n",
            " [4]\n",
            " [5]\n",
            " [6]] . Shape = (6, 1) \n",
            "\n"
          ]
        }
      ],
      "source": [
        "arreglo = np.array([[1,2,3,4,5,6]]).T #notar los corchetes extras\n",
        "print(arreglo,'. Shape =', arreglo.shape, \"\\n\")"
      ]
    },
    {
      "cell_type": "code",
      "execution_count": null,
      "metadata": {
        "id": "noUEvZqdTJUR",
        "outputId": "2bbc7a5f-a1be-49d4-ddc4-b9bf392c4beb"
      },
      "outputs": [
        {
          "name": "stdout",
          "output_type": "stream",
          "text": [
            "Arreglo de (n,)\n",
            "[1 2 3 4 5 6] . Shape = (6,) \n",
            "\n",
            "Arreglo de (2,n)\n",
            "[[1 2 3 4 5 6]\n",
            " [1 2 3 4 5 6]] . Shape = (2, 6) \n",
            "\n",
            "Arreglo de (n,1)\n",
            "[[1]\n",
            " [2]\n",
            " [3]\n",
            " [4]\n",
            " [5]\n",
            " [6]] . Shape = (6, 1) \n",
            "\n",
            "[[1]\n",
            " [2]\n",
            " [3]\n",
            " [4]\n",
            " [5]\n",
            " [6]] . Shape = (6, 1)\n"
          ]
        }
      ],
      "source": [
        "#¿Cuál es la diferencia entre un arreglo de forma -shape- (n,), (n,1) y (1,n)?\n",
        "\n",
        "print('Arreglo de (n,)')\n",
        "arreglo = np.array([1,2,3,4,5,6])\n",
        "print(arreglo,'. Shape =', arreglo.shape, \"\\n\") # \"\\n\" imprime un salto de linea\n",
        "\n",
        "print('Arreglo de (2,n)')\n",
        "arreglo = np.array([[1,2,3,4,5,6],[1,2,3,4,5,6]]) #notar los corchetes extras\n",
        "print(arreglo,'. Shape =', arreglo.shape, \"\\n\")\n",
        "\n",
        "print('Arreglo de (n,1)')\n",
        "arreglo = np.array([[1,2,3,4,5,6]]) #notar los corchetes extras\n",
        "print(arreglo.T,'. Shape =', arreglo.T.shape, \"\\n\")   #notar .T, que significa transpuesto\n"
      ]
    },
    {
      "cell_type": "code",
      "execution_count": null,
      "metadata": {
        "id": "xezYa0YqTJUR"
      },
      "outputs": [],
      "source": [
        "### EXTRA 1###\n",
        "#Trasponer no es la unica forma de crear un arreglo de forma (n,1)'''\n",
        "arreglo = np.array([[1],[2],[3],[4],[5],[6]]) #notar los corchetes extras\n",
        "print(arreglo,'. Shape =', arreglo.shape)   #notar .T, que significa transpuesto"
      ]
    },
    {
      "cell_type": "code",
      "execution_count": null,
      "metadata": {
        "id": "aim-zR47TJUS",
        "outputId": "c0b5f70a-8c61-4105-f98c-2ef71d6ae261"
      },
      "outputs": [
        {
          "data": {
            "text/plain": [
              "(2, 4)"
            ]
          },
          "execution_count": 43,
          "metadata": {},
          "output_type": "execute_result"
        }
      ],
      "source": [
        "a1 = np.array([[1,2,3,4],[5,6,7,8]])\n",
        "a1.shape"
      ]
    },
    {
      "cell_type": "code",
      "execution_count": null,
      "metadata": {
        "id": "J0FiLPPTTJUS",
        "outputId": "3be6e6fd-0717-4aee-fc0a-549ac8466bc0"
      },
      "outputs": [
        {
          "data": {
            "text/plain": [
              "(2, 4)"
            ]
          },
          "execution_count": 44,
          "metadata": {},
          "output_type": "execute_result"
        }
      ],
      "source": [
        "a2 = np.array([[1,2,3,4],[5,6,7,8]])\n",
        "a2.shape"
      ]
    },
    {
      "cell_type": "code",
      "execution_count": null,
      "metadata": {
        "id": "PUvYCIT2TJUT",
        "outputId": "77506c87-3b3b-4dc1-edb2-ff7cbb3ad049"
      },
      "outputs": [
        {
          "data": {
            "text/plain": [
              "(2, 4)"
            ]
          },
          "execution_count": 45,
          "metadata": {},
          "output_type": "execute_result"
        }
      ],
      "source": [
        "a3 = a1 * a2\n",
        "a3.shape"
      ]
    },
    {
      "cell_type": "code",
      "execution_count": null,
      "metadata": {
        "id": "6rqCCR6STJUT",
        "outputId": "a6d6aaeb-e009-41e3-898c-e8d415118ed4"
      },
      "outputs": [
        {
          "data": {
            "text/plain": [
              "array([[ 1,  4,  9, 16],\n",
              "       [25, 36, 49, 64]])"
            ]
          },
          "execution_count": 46,
          "metadata": {},
          "output_type": "execute_result"
        }
      ],
      "source": [
        "a3"
      ]
    },
    {
      "cell_type": "markdown",
      "metadata": {
        "id": "yfQF3M_BTJUU"
      },
      "source": [
        "**Ejercicio 2**:\n",
        "* Escribir un arreglo con números enteros del 0 al 9. Pista: arange\n",
        "* Escribir un arreglo con 100 números equiespaciados del 0 al 9. Pista: linspace"
      ]
    },
    {
      "cell_type": "code",
      "execution_count": null,
      "metadata": {
        "id": "TWR2WxhkTJUU",
        "outputId": "7de2577b-a9d0-4fe5-d848-5b32e7631d96"
      },
      "outputs": [
        {
          "name": "stdout",
          "output_type": "stream",
          "text": [
            "[ 0  1  2  3  4  5  6  7  8  9 10 11]\n"
          ]
        }
      ],
      "source": [
        "arreglo_1 = np.arange(0,12)\n",
        "print(arreglo_1)"
      ]
    },
    {
      "cell_type": "code",
      "execution_count": null,
      "metadata": {
        "id": "POoWF1YpTJUU",
        "outputId": "88680a4b-6fc0-4317-f0a8-f86116129730"
      },
      "outputs": [
        {
          "name": "stdout",
          "output_type": "stream",
          "text": [
            "[ 0.    1.25  2.5   3.75  5.    6.25  7.5   8.75 10.  ]\n"
          ]
        }
      ],
      "source": [
        "arreglo_2 = np.linspace(0,10,9)\n",
        "print(arreglo_2)"
      ]
    },
    {
      "cell_type": "markdown",
      "metadata": {
        "id": "07sMuZ3zTJUV"
      },
      "source": [
        "**Ejercicio 3**:\n",
        "* Escribir un arreglo con números enteros del 10 al 100 y seleccionar aquellos que son divisibles por 3<br>\n",
        "Pista: mask"
      ]
    },
    {
      "cell_type": "code",
      "execution_count": null,
      "metadata": {
        "id": "SP0Hblp4TJUV",
        "outputId": "85d27b35-af72-4e2b-c698-db4019a5f3fc"
      },
      "outputs": [
        {
          "data": {
            "text/plain": [
              "array([10, 11, 12, 13, 14, 15, 16, 17, 18, 19, 20, 21, 22, 23, 24, 25, 26,\n",
              "       27, 28, 29, 30, 31, 32, 33, 34, 35, 36, 37, 38, 39, 40, 41, 42, 43,\n",
              "       44, 45, 46, 47, 48, 49, 50, 51, 52, 53, 54, 55, 56, 57, 58, 59, 60,\n",
              "       61, 62, 63, 64, 65, 66, 67, 68, 69, 70, 71, 72, 73, 74, 75, 76, 77,\n",
              "       78, 79, 80, 81, 82, 83, 84, 85, 86, 87, 88, 89, 90, 91, 92, 93, 94,\n",
              "       95, 96, 97, 98, 99])"
            ]
          },
          "execution_count": 12,
          "metadata": {},
          "output_type": "execute_result"
        }
      ],
      "source": [
        "a = np.arange(10,100)\n",
        "a"
      ]
    },
    {
      "cell_type": "code",
      "execution_count": null,
      "metadata": {
        "id": "NE9nWFrtTJUV"
      },
      "outputs": [],
      "source": [
        "a = a.reshape(3,3,10)"
      ]
    },
    {
      "cell_type": "code",
      "execution_count": null,
      "metadata": {
        "id": "Yw8Qh7iZTJUV"
      },
      "outputs": [],
      "source": [
        "mask = a%3==0"
      ]
    },
    {
      "cell_type": "code",
      "execution_count": null,
      "metadata": {
        "id": "UOtxUBIvTJUW",
        "outputId": "621f7f5f-9e7b-4c70-8d2a-7d810d33170b"
      },
      "outputs": [
        {
          "data": {
            "text/plain": [
              "(3, 3, 10)"
            ]
          },
          "execution_count": 15,
          "metadata": {},
          "output_type": "execute_result"
        }
      ],
      "source": [
        "mask.shape"
      ]
    },
    {
      "cell_type": "code",
      "execution_count": null,
      "metadata": {
        "id": "Vz0QhmD7TJUW",
        "outputId": "2dfe5a06-319c-43f0-bf57-bb734e5fb6bf"
      },
      "outputs": [
        {
          "data": {
            "text/plain": [
              "array([12, 15, 18, 21, 24, 27, 30, 33, 36, 39, 42, 45, 48, 51, 54, 57, 60,\n",
              "       63, 66, 69, 72, 75, 78, 81, 84, 87, 90, 93, 96, 99])"
            ]
          },
          "execution_count": 16,
          "metadata": {},
          "output_type": "execute_result"
        }
      ],
      "source": [
        "a[mask]"
      ]
    },
    {
      "cell_type": "markdown",
      "metadata": {
        "id": "jnWExa35TJUX"
      },
      "source": [
        "**Ejercicio 4**:\n",
        "* Crear un arreglo de ceros de `shape` (5,10).\n",
        "* Reemplazar la segunda y cuarta fila con unos\n",
        "* Reemplazar la tercera y octava columna con dos (2)."
      ]
    },
    {
      "cell_type": "code",
      "execution_count": null,
      "metadata": {
        "id": "N_YySRC4TJUX",
        "outputId": "47f5d0e0-9601-4edc-abcc-3a7b6e3580de"
      },
      "outputs": [
        {
          "data": {
            "text/plain": [
              "array([[0., 0., 0., 0., 0., 0., 0., 0., 0., 0.],\n",
              "       [0., 0., 0., 0., 0., 0., 0., 0., 0., 0.],\n",
              "       [0., 0., 0., 0., 0., 0., 0., 0., 0., 0.],\n",
              "       [0., 0., 0., 0., 0., 0., 0., 0., 0., 0.],\n",
              "       [0., 0., 0., 0., 0., 0., 0., 0., 0., 0.]])"
            ]
          },
          "execution_count": 85,
          "metadata": {},
          "output_type": "execute_result"
        }
      ],
      "source": [
        "zeros = np.zeros((5,10))\n",
        "zeros"
      ]
    },
    {
      "cell_type": "code",
      "execution_count": null,
      "metadata": {
        "id": "3lukcqONTJUX",
        "outputId": "72875c5a-ca22-4c32-fe00-5e9030be0a3c"
      },
      "outputs": [
        {
          "data": {
            "text/plain": [
              "array([[0., 0., 0., 0., 0., 0., 0., 0., 0., 0.],\n",
              "       [1., 1., 1., 1., 1., 1., 1., 1., 1., 1.],\n",
              "       [0., 0., 0., 0., 0., 0., 0., 0., 0., 0.],\n",
              "       [0., 0., 0., 0., 0., 0., 0., 0., 0., 0.],\n",
              "       [0., 0., 0., 0., 0., 0., 0., 0., 0., 0.]])"
            ]
          },
          "execution_count": 80,
          "metadata": {},
          "output_type": "execute_result"
        }
      ],
      "source": [
        "zeros[1,:] = 1\n",
        "zeros"
      ]
    },
    {
      "cell_type": "code",
      "execution_count": null,
      "metadata": {
        "id": "AUe1dhdgTJUY",
        "outputId": "3bac2e31-28c2-46fa-b0e0-18509d4de73f"
      },
      "outputs": [
        {
          "data": {
            "text/plain": [
              "array([[0., 0., 0., 1., 1., 0., 0., 0., 0., 0.],\n",
              "       [0., 0., 0., 1., 1., 0., 0., 0., 0., 0.],\n",
              "       [0., 0., 0., 1., 1., 0., 0., 0., 0., 0.],\n",
              "       [0., 0., 0., 1., 1., 0., 0., 0., 0., 0.],\n",
              "       [0., 0., 0., 1., 1., 0., 0., 0., 0., 0.]])"
            ]
          },
          "execution_count": 86,
          "metadata": {},
          "output_type": "execute_result"
        }
      ],
      "source": [
        "zeros[:,3:5] = 1\n",
        "zeros"
      ]
    },
    {
      "cell_type": "code",
      "execution_count": null,
      "metadata": {
        "id": "lAEfpjY1TJUY",
        "outputId": "da50e090-e376-4ed4-cc8c-3fe5e4366215"
      },
      "outputs": [
        {
          "data": {
            "text/plain": [
              "array([[0., 0., 0., 1., 0., 0., 0., 0., 0., 0.],\n",
              "       [1., 1., 1., 1., 1., 1., 1., 1., 1., 1.],\n",
              "       [0., 0., 0., 1., 0., 0., 0., 0., 0., 0.],\n",
              "       [1., 1., 1., 1., 1., 1., 1., 1., 1., 1.],\n",
              "       [0., 0., 0., 1., 0., 0., 0., 0., 0., 0.]])"
            ]
          },
          "execution_count": 66,
          "metadata": {},
          "output_type": "execute_result"
        }
      ],
      "source": [
        "zeros[3,:] = 1\n",
        "zeros"
      ]
    },
    {
      "cell_type": "code",
      "execution_count": null,
      "metadata": {
        "id": "t-nriWfHTJUY",
        "outputId": "ceebab3b-0638-4414-abda-18c95cd21d8d"
      },
      "outputs": [
        {
          "data": {
            "text/plain": [
              "array([[5., 5., 5., 5., 5., 5., 5., 5., 5., 5.],\n",
              "       [5., 5., 5., 5., 5., 5., 5., 5., 5., 5.],\n",
              "       [5., 5., 5., 5., 5., 5., 5., 5., 5., 5.],\n",
              "       [5., 5., 5., 5., 5., 5., 5., 5., 5., 5.],\n",
              "       [5., 5., 5., 5., 5., 5., 5., 5., 5., 5.]])"
            ]
          },
          "execution_count": 67,
          "metadata": {},
          "output_type": "execute_result"
        }
      ],
      "source": [
        "#zeros[:,2] = 2\n",
        "zeros[:,:] = 5\n",
        "zeros"
      ]
    },
    {
      "cell_type": "code",
      "execution_count": null,
      "metadata": {
        "id": "1RuMl7HXTJUZ",
        "outputId": "2de57871-ef70-4c89-b1f6-c64eba92d7cb"
      },
      "outputs": [
        {
          "name": "stdout",
          "output_type": "stream",
          "text": [
            "65341\n"
          ]
        }
      ],
      "source": [
        "todos = []\n",
        "n = 0\n",
        "lat = -90\n",
        "long = -180\n",
        "while lat < 91:\n",
        "    \n",
        "    while long < 181:\n",
        "        todos.append([lat,long])\n",
        "        n = n + 1\n",
        "        long = long + 1   \n",
        "        \n",
        "    long = -180\n",
        "    lat = lat + 1\n",
        "print(n)"
      ]
    },
    {
      "cell_type": "code",
      "execution_count": null,
      "metadata": {
        "id": "BQzqolOWTJUZ"
      },
      "outputs": [],
      "source": [
        "todos = np.array(todos)"
      ]
    },
    {
      "cell_type": "code",
      "execution_count": null,
      "metadata": {
        "id": "0wingP42TJUa",
        "outputId": "bb6747d8-5604-4811-bac7-d7814be814e3"
      },
      "outputs": [
        {
          "data": {
            "text/plain": [
              "(65341, 2)"
            ]
          },
          "execution_count": 92,
          "metadata": {},
          "output_type": "execute_result"
        }
      ],
      "source": [
        "todos.shape"
      ]
    },
    {
      "cell_type": "markdown",
      "metadata": {
        "id": "SiwOpyTpTJUa"
      },
      "source": [
        "**Ejercicio $\\infty$**:\n",
        "Hacer todos los ejercicios que puedan del siguiente link https://www.machinelearningplus.com/python/101-numpy-exercises-python/\n",
        "\n",
        "O de https://github.com/rougier/numpy-100"
      ]
    },
    {
      "cell_type": "markdown",
      "metadata": {
        "id": "oiF9XPexTJUa"
      },
      "source": [
        "Para explorar las funciones de creación de datos aleatorios:\n",
        "https://numpy.org/doc/stable/reference/random/legacy.html"
      ]
    },
    {
      "cell_type": "code",
      "execution_count": null,
      "metadata": {
        "id": "5iaCC9ifTJUb",
        "outputId": "1b2ff63e-c28e-4dd9-9435-e5494dda8ec2"
      },
      "outputs": [
        {
          "data": {
            "text/plain": [
              "array([[[137.12277219, 187.22289567, 153.95764007],\n",
              "        [175.21869487, 188.10311988, 118.02508687]],\n",
              "\n",
              "       [[157.58773537, 166.74585121, 134.96866874],\n",
              "        [128.3807111 , 188.91447629, 150.68622952]],\n",
              "\n",
              "       [[168.77296873, 117.90287547, 115.19825164],\n",
              "        [123.86197814, 172.33144425, 165.7329653 ]],\n",
              "\n",
              "       [[157.35784374, 121.82035838, 100.01848734],\n",
              "        [195.39977874, 188.95736542, 121.54200787]]])"
            ]
          },
          "execution_count": 17,
          "metadata": {},
          "output_type": "execute_result"
        }
      ],
      "source": [
        "a = np.random.random((4,2,3)) * 100 + 100\n",
        "a"
      ]
    },
    {
      "cell_type": "code",
      "execution_count": null,
      "metadata": {
        "id": "_86L6RdcTJUb"
      },
      "outputs": [],
      "source": [
        "a = np.random.random((4,4))"
      ]
    },
    {
      "cell_type": "code",
      "execution_count": null,
      "metadata": {
        "id": "HiRJkxh3TJUb",
        "outputId": "51aafa7d-7191-42aa-8072-6cf2a1fa8327"
      },
      "outputs": [
        {
          "data": {
            "text/plain": [
              "array([[0.48673571, 0.50465005, 0.33227167, 0.86611167],\n",
              "       [0.14502147, 0.13692842, 0.56804006, 0.89177045],\n",
              "       [0.78692331, 0.25942502, 0.88516122, 0.32876297],\n",
              "       [0.78919257, 0.64347772, 0.02402004, 0.66363368]])"
            ]
          },
          "execution_count": 19,
          "metadata": {},
          "output_type": "execute_result"
        }
      ],
      "source": [
        "a"
      ]
    },
    {
      "cell_type": "code",
      "execution_count": null,
      "metadata": {
        "id": "4r8ksK4kTJUc"
      },
      "outputs": [],
      "source": [
        "a = np.array([[10,200,30,45,5,50],[5,20,30,40,50,0],[5,20,30,40,50,0],[5,20,30,40,50,0]], dtype=np.int8)"
      ]
    },
    {
      "cell_type": "code",
      "execution_count": null,
      "metadata": {
        "id": "ynw41B46TJUc",
        "outputId": "85f81fff-7bad-4182-834d-f276cf21c505"
      },
      "outputs": [
        {
          "data": {
            "text/plain": [
              "array([[ 10, 200,  30,  45,   5, 100],\n",
              "       [  5,  20,  30,  40,  50,   0],\n",
              "       [  5,  20,  30,  40,  50,   0],\n",
              "       [  5,  20,  30,  40,  50,   0]], dtype=int16)"
            ]
          },
          "execution_count": 115,
          "metadata": {},
          "output_type": "execute_result"
        }
      ],
      "source": [
        "a"
      ]
    },
    {
      "cell_type": "code",
      "execution_count": null,
      "metadata": {
        "id": "Zj-pUyP9TJUc",
        "outputId": "4ad3be2d-4bc7-4eca-c3e5-97e4de1009c0"
      },
      "outputs": [
        {
          "data": {
            "text/plain": [
              "519"
            ]
          },
          "execution_count": 21,
          "metadata": {},
          "output_type": "execute_result"
        }
      ],
      "source": [
        "a.sum()"
      ]
    },
    {
      "cell_type": "code",
      "execution_count": null,
      "metadata": {
        "id": "U8QD1CmkTJUd",
        "outputId": "8ee19a8c-29b5-42cc-d42d-1fd3a70988a1"
      },
      "outputs": [
        {
          "data": {
            "text/plain": [
              "23.924904214367643"
            ]
          },
          "execution_count": 22,
          "metadata": {},
          "output_type": "execute_result"
        }
      ],
      "source": [
        "a.std()"
      ]
    },
    {
      "cell_type": "code",
      "execution_count": null,
      "metadata": {
        "id": "F21k6D4VTJUd"
      },
      "outputs": [],
      "source": [
        "a.sort(axis=1)"
      ]
    },
    {
      "cell_type": "code",
      "execution_count": null,
      "metadata": {
        "id": "_JA3cKaJTJUd",
        "outputId": "7272d849-3f4a-4d3c-f45d-b6023afe4cd2"
      },
      "outputs": [
        {
          "data": {
            "text/plain": [
              "array([[-56,   5,  10,  30,  45,  50],\n",
              "       [  0,   5,  20,  30,  40,  50],\n",
              "       [  0,   5,  20,  30,  40,  50],\n",
              "       [  0,   5,  20,  30,  40,  50]], dtype=int8)"
            ]
          },
          "execution_count": 24,
          "metadata": {},
          "output_type": "execute_result"
        }
      ],
      "source": [
        "a"
      ]
    },
    {
      "cell_type": "code",
      "execution_count": null,
      "metadata": {
        "id": "aSw6eYvjTJUe",
        "outputId": "682f8743-5a12-43e2-c1e0-a94088ae9612"
      },
      "outputs": [
        {
          "data": {
            "text/plain": [
              "array([[-56,   5,  10,  30,  40,  50],\n",
              "       [  0,   5,  20,  30,  40,  50],\n",
              "       [  0,   5,  20,  30,  40,  50],\n",
              "       [  0,   5,  20,  30,  45,  50]], dtype=int8)"
            ]
          },
          "execution_count": 25,
          "metadata": {},
          "output_type": "execute_result"
        }
      ],
      "source": [
        "a.sort(axis=0)\n",
        "a"
      ]
    },
    {
      "cell_type": "code",
      "execution_count": null,
      "metadata": {
        "id": "OACPaXHOTJUe",
        "outputId": "ac859630-bc10-4ac7-b483-a259851d3483"
      },
      "outputs": [
        {
          "data": {
            "text/plain": [
              "array([[ 0,  5, 20],\n",
              "       [ 0,  5, 20]], dtype=int8)"
            ]
          },
          "execution_count": 26,
          "metadata": {},
          "output_type": "execute_result"
        }
      ],
      "source": [
        "a[1:3,0:3]"
      ]
    },
    {
      "cell_type": "code",
      "execution_count": null,
      "metadata": {
        "id": "CumDSFxITJUe"
      },
      "outputs": [],
      "source": [
        "l =   [[ 10, 200,  30,  45,   5, 100],\n",
        "       [  5,  20,  30,  40,  50,   0],\n",
        "       [  5,  20,  30,  40,  50,   0],\n",
        "       [  5,  20,  30,  40,  50,   0]]"
      ]
    },
    {
      "cell_type": "code",
      "execution_count": null,
      "metadata": {
        "id": "47p_Vrd6TJUf"
      },
      "outputs": [],
      "source": [
        "a = np.array([l])"
      ]
    },
    {
      "cell_type": "code",
      "execution_count": null,
      "metadata": {
        "id": "2Keumh0lTJUf",
        "outputId": "e64f9292-789d-43c0-b20a-0fa1b78d3997"
      },
      "outputs": [
        {
          "data": {
            "text/plain": [
              "(1, 4, 6)"
            ]
          },
          "execution_count": 31,
          "metadata": {},
          "output_type": "execute_result"
        }
      ],
      "source": [
        "a.shape"
      ]
    },
    {
      "cell_type": "code",
      "execution_count": null,
      "metadata": {
        "id": "_muM44RdTJUg",
        "outputId": "a5d2a75b-f275-41d2-ce4d-b2f3d96ede34"
      },
      "outputs": [
        {
          "data": {
            "text/plain": [
              "array([ 10, 200,  30,  45,   5, 100,   5,  20,  30,  40,  50,   0,   5,\n",
              "        20,  30,  40,  50,   0,   5,  20,  30,  40,  50,   0])"
            ]
          },
          "execution_count": 32,
          "metadata": {},
          "output_type": "execute_result"
        }
      ],
      "source": [
        "a.reshape(24)"
      ]
    },
    {
      "cell_type": "code",
      "execution_count": null,
      "metadata": {
        "id": "f5rsZlM_TJUg",
        "outputId": "24b3b738-fced-4bab-d404-33e1f9c05c4e"
      },
      "outputs": [
        {
          "name": "stdout",
          "output_type": "stream",
          "text": [
            "[[1 2 3 4 5 6]]\n"
          ]
        }
      ],
      "source": [
        "a = np.matrix([[1,2,3,4,5,6]]) \n",
        "print(a) "
      ]
    },
    {
      "cell_type": "code",
      "execution_count": null,
      "metadata": {
        "id": "n0r-Zt_GTJUh",
        "outputId": "87650715-14ba-4e7c-f9e7-3708da66aa90"
      },
      "outputs": [
        {
          "name": "stdout",
          "output_type": "stream",
          "text": [
            "[[1]\n",
            " [2]\n",
            " [3]\n",
            " [4]\n",
            " [5]\n",
            " [6]]\n"
          ]
        }
      ],
      "source": [
        "b = np.matrix([[1],[2],[3],[4],[5],[6]]) \n",
        "print(b) "
      ]
    },
    {
      "cell_type": "code",
      "execution_count": null,
      "metadata": {
        "id": "gmH-7bGOTJUh",
        "outputId": "a2583094-5db8-4192-a455-b851c3c3bd2b"
      },
      "outputs": [
        {
          "name": "stdout",
          "output_type": "stream",
          "text": [
            "[[91]]\n"
          ]
        }
      ],
      "source": [
        "c = a * b \n",
        "print(c) "
      ]
    },
    {
      "cell_type": "code",
      "execution_count": null,
      "metadata": {
        "id": "eOniK44VTJUi",
        "outputId": "f9ae8e94-a2e5-4d8a-9cf4-57a8dd25599f"
      },
      "outputs": [
        {
          "name": "stdout",
          "output_type": "stream",
          "text": [
            "[[ 1  2  3  4  5  6]\n",
            " [ 2  4  6  8 10 12]\n",
            " [ 3  6  9 12 15 18]\n",
            " [ 4  8 12 16 20 24]\n",
            " [ 5 10 15 20 25 30]\n",
            " [ 6 12 18 24 30 36]]\n"
          ]
        }
      ],
      "source": [
        "d = b * a \n",
        "print(d)"
      ]
    }
  ],
  "metadata": {
    "kernelspec": {
      "display_name": "Python 3 (ipykernel)",
      "language": "python",
      "name": "python3"
    },
    "language_info": {
      "codemirror_mode": {
        "name": "ipython",
        "version": 3
      },
      "file_extension": ".py",
      "mimetype": "text/x-python",
      "name": "python",
      "nbconvert_exporter": "python",
      "pygments_lexer": "ipython3",
      "version": "3.9.7"
    },
    "colab": {
      "name": "Homework Resuelto.ipynb",
      "provenance": [],
      "include_colab_link": true
    }
  },
  "nbformat": 4,
  "nbformat_minor": 0
}