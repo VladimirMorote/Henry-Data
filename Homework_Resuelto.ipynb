{
  "cells": [
    {
      "cell_type": "markdown",
      "metadata": {
        "id": "view-in-github",
        "colab_type": "text"
      },
      "source": [
        "<a href=\"https://colab.research.google.com/github/VladimirMorote/Henry-Data/blob/main/Homework_Resuelto.ipynb\" target=\"_parent\"><img src=\"https://colab.research.google.com/assets/colab-badge.svg\" alt=\"Open In Colab\"/></a>"
      ]
    },
    {
      "cell_type": "markdown",
      "metadata": {
        "id": "EdovrTN7B8ge"
      },
      "source": [
        "# Práctica Clase 3"
      ]
    },
    {
      "cell_type": "markdown",
      "metadata": {
        "id": "jUSvIgbVB8gl"
      },
      "source": [
        "## Numpy"
      ]
    },
    {
      "cell_type": "code",
      "execution_count": 1,
      "metadata": {
        "id": "qPKZGI0JB8gm"
      },
      "outputs": [],
      "source": [
        "import numpy as np"
      ]
    },
    {
      "cell_type": "markdown",
      "metadata": {
        "id": "tGZB0xRtB8go"
      },
      "source": [
        "**Ejercicio 1**: Responder las siguientes preguntas:\n",
        "* ¿Qué operaciones se pueden hacer tanto en un arreglo de Numpy como en una lista? Dar un ejemplo en una celda.\n",
        "* ¿Qué operaciones se pueden hacer en un arreglo de Numpy pero NO en una lista? Explorar algunas opciones y dar un ejemplo en una celda.\n",
        "* ¿Cuál es la diferencia entre un arreglo de forma -shape- (n,), (n,1) y (1,n)? Pueden crear arreglos para intentar responder esa pregunta."
      ]
    },
    {
      "cell_type": "markdown",
      "metadata": {
        "id": "3dlQmw-1B8gp"
      },
      "source": [
        "A partir de una lista podemos crear un arreglo de numpy"
      ]
    },
    {
      "cell_type": "code",
      "execution_count": 2,
      "metadata": {
        "colab": {
          "base_uri": "https://localhost:8080/"
        },
        "id": "W-D2-HGdB8gq",
        "outputId": "701661ef-e3c1-4a28-8936-57cded628b9f"
      },
      "outputs": [
        {
          "output_type": "stream",
          "name": "stdout",
          "text": [
            "[0, 1, 2, 3, 4, 5]\n",
            "[0 1 2 3 4 5]\n"
          ]
        }
      ],
      "source": [
        "lista = [0,1,2,3,4,5]\n",
        "arreglo = np.array(lista)\n",
        "print(lista)\n",
        "print(arreglo)"
      ]
    },
    {
      "cell_type": "markdown",
      "metadata": {
        "id": "gdbYF2yDB8gs"
      },
      "source": [
        "Pero para algunos casos numpy tiene funciones que crean listas más rápidamente."
      ]
    },
    {
      "cell_type": "code",
      "execution_count": 3,
      "metadata": {
        "colab": {
          "base_uri": "https://localhost:8080/"
        },
        "id": "2UX3uuubB8gt",
        "outputId": "139cf74a-0e14-46a2-d251-3083c33f7b8c"
      },
      "outputs": [
        {
          "output_type": "stream",
          "name": "stdout",
          "text": [
            "[0 1 2 3 4 5 6 7]\n"
          ]
        }
      ],
      "source": [
        "arreglo = np.arange(8)\n",
        "print(arreglo)"
      ]
    },
    {
      "cell_type": "markdown",
      "metadata": {
        "id": "Uwy6P-dsB8gu"
      },
      "source": [
        "Algunas cosas que se pueden hacer con arreglos pero no con las listas:\n",
        "\n",
        "1. Sumarle un mismo elemento"
      ]
    },
    {
      "cell_type": "code",
      "execution_count": 6,
      "metadata": {
        "colab": {
          "base_uri": "https://localhost:8080/"
        },
        "id": "7SiRwfUlB8gv",
        "outputId": "1af6e556-0c9c-4298-b5a4-60376500646d"
      },
      "outputs": [
        {
          "output_type": "execute_result",
          "data": {
            "text/plain": [
              "[0, 1, 2, 3, 4, 5]"
            ]
          },
          "metadata": {},
          "execution_count": 6
        }
      ],
      "source": [
        "lista "
      ]
    },
    {
      "cell_type": "code",
      "execution_count": 7,
      "metadata": {
        "id": "lsYdqffpB8gw"
      },
      "outputs": [],
      "source": [
        "arreglo = arreglo + 1"
      ]
    },
    {
      "cell_type": "code",
      "execution_count": 8,
      "metadata": {
        "colab": {
          "base_uri": "https://localhost:8080/"
        },
        "id": "pONHpudwB8gw",
        "outputId": "a37df8ca-a610-43ef-c163-aa6c1859b2db"
      },
      "outputs": [
        {
          "output_type": "execute_result",
          "data": {
            "text/plain": [
              "array([1, 2, 3, 4, 5, 6, 7, 8])"
            ]
          },
          "metadata": {},
          "execution_count": 8
        }
      ],
      "source": [
        "arreglo"
      ]
    },
    {
      "cell_type": "markdown",
      "metadata": {
        "id": "EntPQDdiB8gx"
      },
      "source": [
        "2. Elevar al cuadrado todos los elementos"
      ]
    },
    {
      "cell_type": "code",
      "execution_count": 9,
      "metadata": {
        "colab": {
          "base_uri": "https://localhost:8080/",
          "height": 174
        },
        "id": "gx7c7w1IB8gx",
        "outputId": "334e9a81-d810-4319-bb99-0bb9a61e31d0"
      },
      "outputs": [
        {
          "output_type": "error",
          "ename": "TypeError",
          "evalue": "ignored",
          "traceback": [
            "\u001b[0;31m---------------------------------------------------------------------------\u001b[0m",
            "\u001b[0;31mTypeError\u001b[0m                                 Traceback (most recent call last)",
            "\u001b[0;32m<ipython-input-9-6a1257d65d62>\u001b[0m in \u001b[0;36m<module>\u001b[0;34m()\u001b[0m\n\u001b[0;32m----> 1\u001b[0;31m \u001b[0mlista\u001b[0m\u001b[0;34m**\u001b[0m\u001b[0;36m2\u001b[0m\u001b[0;34m\u001b[0m\u001b[0;34m\u001b[0m\u001b[0m\n\u001b[0m",
            "\u001b[0;31mTypeError\u001b[0m: unsupported operand type(s) for ** or pow(): 'list' and 'int'"
          ]
        }
      ],
      "source": [
        "lista**2"
      ]
    },
    {
      "cell_type": "code",
      "execution_count": null,
      "metadata": {
        "id": "W1F5athyB8gy",
        "outputId": "51dfaf48-c296-4a47-ea33-2d6858f6c9c1"
      },
      "outputs": [
        {
          "data": {
            "text/plain": [
              "array([ 1,  4,  9, 16, 25, 36, 49, 64], dtype=int32)"
            ]
          },
          "execution_count": 9,
          "metadata": {},
          "output_type": "execute_result"
        }
      ],
      "source": [
        "arreglo**2"
      ]
    },
    {
      "cell_type": "markdown",
      "metadata": {
        "id": "98fGzLTiB8gy"
      },
      "source": [
        "3. Sumar todos los elementos"
      ]
    },
    {
      "cell_type": "code",
      "execution_count": null,
      "metadata": {
        "id": "gki92a3qB8gz",
        "outputId": "7c308f10-0527-4277-b0b1-f191e3752db1"
      },
      "outputs": [
        {
          "name": "stdout",
          "output_type": "stream",
          "text": [
            "36\n"
          ]
        },
        {
          "ename": "AttributeError",
          "evalue": "'list' object has no attribute 'sum'",
          "output_type": "error",
          "traceback": [
            "\u001b[1;31m---------------------------------------------------------------------------\u001b[0m",
            "\u001b[1;31mAttributeError\u001b[0m                            Traceback (most recent call last)",
            "\u001b[1;32m~\\AppData\\Local\\Temp/ipykernel_23612/1020896401.py\u001b[0m in \u001b[0;36m<module>\u001b[1;34m\u001b[0m\n\u001b[0;32m      1\u001b[0m \u001b[0mprint\u001b[0m\u001b[1;33m(\u001b[0m\u001b[0marreglo\u001b[0m\u001b[1;33m.\u001b[0m\u001b[0msum\u001b[0m\u001b[1;33m(\u001b[0m\u001b[1;33m)\u001b[0m\u001b[1;33m)\u001b[0m\u001b[1;33m\u001b[0m\u001b[1;33m\u001b[0m\u001b[0m\n\u001b[1;32m----> 2\u001b[1;33m \u001b[0mprint\u001b[0m\u001b[1;33m(\u001b[0m\u001b[0mlista\u001b[0m\u001b[1;33m.\u001b[0m\u001b[0msum\u001b[0m\u001b[1;33m(\u001b[0m\u001b[1;33m)\u001b[0m\u001b[1;33m)\u001b[0m\u001b[1;33m\u001b[0m\u001b[1;33m\u001b[0m\u001b[0m\n\u001b[0m",
            "\u001b[1;31mAttributeError\u001b[0m: 'list' object has no attribute 'sum'"
          ]
        }
      ],
      "source": [
        "print(arreglo.sum())\n",
        "print(lista.sum())"
      ]
    },
    {
      "cell_type": "code",
      "execution_count": null,
      "metadata": {
        "id": "PZ-bRl5PB8gz",
        "outputId": "50820e5f-7a13-468a-e517-d69f39deb0db"
      },
      "outputs": [
        {
          "name": "stdout",
          "output_type": "stream",
          "text": [
            "15\n"
          ]
        }
      ],
      "source": [
        "n = 0\n",
        "for e in lista:\n",
        "    n = n + e\n",
        "print(n)"
      ]
    },
    {
      "cell_type": "code",
      "execution_count": null,
      "metadata": {
        "id": "nAsjnTgrB8g0",
        "outputId": "6aa1fb5a-a24a-4a6b-bc3b-7d00af2f439f"
      },
      "outputs": [
        {
          "data": {
            "text/plain": [
              "(6,)"
            ]
          },
          "execution_count": 12,
          "metadata": {},
          "output_type": "execute_result"
        }
      ],
      "source": [
        "arreglo.shape"
      ]
    },
    {
      "cell_type": "code",
      "execution_count": null,
      "metadata": {
        "id": "lQjaEFNRB8g1",
        "outputId": "264d6f1d-4017-4134-8424-3802d85a01f6"
      },
      "outputs": [
        {
          "name": "stdout",
          "output_type": "stream",
          "text": [
            "[[1 2 3 4 5 6]\n",
            " [1 2 3 4 5 6]\n",
            " [1 2 3 4 5 6]] . Shape = (3, 6) \n",
            "\n"
          ]
        }
      ],
      "source": [
        "arreglo = np.array([[1,2,3,4,5,6],[1,2,3,4,5,6],[1,2,3,4,5,6]]) #notar los corchetes extras\n",
        "print(arreglo,'. Shape =', arreglo.shape, \"\\n\")"
      ]
    },
    {
      "cell_type": "code",
      "execution_count": null,
      "metadata": {
        "id": "RnmSW2SrB8g1",
        "outputId": "a78c79c9-aaf1-4291-ff84-cc5b97b8c945"
      },
      "outputs": [
        {
          "name": "stdout",
          "output_type": "stream",
          "text": [
            "[[1 2 3 4 5 6]] . Shape = (1, 6) \n",
            "\n"
          ]
        }
      ],
      "source": [
        "arreglo = np.array([[1,2,3,4,5,6]]) #notar los corchetes extras\n",
        "print(arreglo,'. Shape =', arreglo.shape, \"\\n\")"
      ]
    },
    {
      "cell_type": "code",
      "execution_count": null,
      "metadata": {
        "id": "3B3LSZb8B8g2",
        "outputId": "5c8a2305-2d72-4087-b6e8-ffa450b936ae"
      },
      "outputs": [
        {
          "name": "stdout",
          "output_type": "stream",
          "text": [
            "[[1]\n",
            " [2]\n",
            " [3]\n",
            " [4]\n",
            " [5]\n",
            " [6]] . Shape = (6, 1) \n",
            "\n"
          ]
        }
      ],
      "source": [
        "arreglo = np.array([[1,2,3,4,5,6]]).T #notar los corchetes extras\n",
        "print(arreglo,'. Shape =', arreglo.shape, \"\\n\")"
      ]
    },
    {
      "cell_type": "code",
      "execution_count": null,
      "metadata": {
        "id": "HfZ_qt7XB8g2",
        "outputId": "4154c53b-1f64-48a6-cbe2-3bccd863748d"
      },
      "outputs": [
        {
          "name": "stdout",
          "output_type": "stream",
          "text": [
            "Arreglo de (n,)\n",
            "[1 2 3 4 5 6] . Shape = (6,) \n",
            "\n",
            "Arreglo de (2,n)\n",
            "[[1 2 3 4 5 6]\n",
            " [1 2 3 4 5 6]] . Shape = (2, 6) \n",
            "\n",
            "Arreglo de (n,1)\n",
            "[[1]\n",
            " [2]\n",
            " [3]\n",
            " [4]\n",
            " [5]\n",
            " [6]] . Shape = (6, 1) \n",
            "\n",
            "[[1]\n",
            " [2]\n",
            " [3]\n",
            " [4]\n",
            " [5]\n",
            " [6]] . Shape = (6, 1)\n"
          ]
        }
      ],
      "source": [
        "#¿Cuál es la diferencia entre un arreglo de forma -shape- (n,), (n,1) y (1,n)?\n",
        "\n",
        "print('Arreglo de (n,)')\n",
        "arreglo = np.array([1,2,3,4,5,6])\n",
        "print(arreglo,'. Shape =', arreglo.shape, \"\\n\") # \"\\n\" imprime un salto de linea\n",
        "\n",
        "print('Arreglo de (2,n)')\n",
        "arreglo = np.array([[1,2,3,4,5,6],[1,2,3,4,5,6]]) #notar los corchetes extras\n",
        "print(arreglo,'. Shape =', arreglo.shape, \"\\n\")\n",
        "\n",
        "print('Arreglo de (n,1)')\n",
        "arreglo = np.array([[1,2,3,4,5,6]]) #notar los corchetes extras\n",
        "print(arreglo.T,'. Shape =', arreglo.T.shape, \"\\n\")   #notar .T, que significa transpuesto\n"
      ]
    },
    {
      "cell_type": "code",
      "execution_count": null,
      "metadata": {
        "id": "3JNnMW-dB8g3"
      },
      "outputs": [],
      "source": [
        "### EXTRA 1###\n",
        "#Trasponer no es la unica forma de crear un arreglo de forma (n,1)'''\n",
        "arreglo = np.array([[1],[2],[3],[4],[5],[6]]) #notar los corchetes extras\n",
        "print(arreglo,'. Shape =', arreglo.shape)   #notar .T, que significa transpuesto"
      ]
    },
    {
      "cell_type": "code",
      "execution_count": null,
      "metadata": {
        "id": "OvRNy9_cB8g4",
        "outputId": "709a565f-51dd-4510-a22c-e21d0d63a1d7"
      },
      "outputs": [
        {
          "data": {
            "text/plain": [
              "(2, 4)"
            ]
          },
          "execution_count": 43,
          "metadata": {},
          "output_type": "execute_result"
        }
      ],
      "source": [
        "a1 = np.array([[1,2,3,4],[5,6,7,8]])\n",
        "a1.shape"
      ]
    },
    {
      "cell_type": "code",
      "execution_count": null,
      "metadata": {
        "id": "JgELxhbaB8g4",
        "outputId": "1c11bf64-d3de-43a6-f929-e90511dff6f5"
      },
      "outputs": [
        {
          "data": {
            "text/plain": [
              "(2, 4)"
            ]
          },
          "execution_count": 44,
          "metadata": {},
          "output_type": "execute_result"
        }
      ],
      "source": [
        "a2 = np.array([[1,2,3,4],[5,6,7,8]])\n",
        "a2.shape"
      ]
    },
    {
      "cell_type": "code",
      "execution_count": null,
      "metadata": {
        "id": "Pws8siNNB8g4",
        "outputId": "3821aeca-fa0d-4ac8-9ad7-33c72f0a8a8b"
      },
      "outputs": [
        {
          "data": {
            "text/plain": [
              "(2, 4)"
            ]
          },
          "execution_count": 45,
          "metadata": {},
          "output_type": "execute_result"
        }
      ],
      "source": [
        "a3 = a1 * a2\n",
        "a3.shape"
      ]
    },
    {
      "cell_type": "code",
      "execution_count": null,
      "metadata": {
        "id": "la5YBxloB8g5",
        "outputId": "54921362-4fc0-4f54-e888-3360432e74a3"
      },
      "outputs": [
        {
          "data": {
            "text/plain": [
              "array([[ 1,  4,  9, 16],\n",
              "       [25, 36, 49, 64]])"
            ]
          },
          "execution_count": 46,
          "metadata": {},
          "output_type": "execute_result"
        }
      ],
      "source": [
        "a3"
      ]
    },
    {
      "cell_type": "markdown",
      "metadata": {
        "id": "IjCXIbZkB8g5"
      },
      "source": [
        "**Ejercicio 2**:\n",
        "* Escribir un arreglo con números enteros del 0 al 9. Pista: arange\n",
        "* Escribir un arreglo con 100 números equiespaciados del 0 al 9. Pista: linspace"
      ]
    },
    {
      "cell_type": "code",
      "execution_count": null,
      "metadata": {
        "id": "ykAcCjw5B8g6",
        "outputId": "070e6aa1-491d-48cf-eebb-a19fa45e2abe"
      },
      "outputs": [
        {
          "name": "stdout",
          "output_type": "stream",
          "text": [
            "[ 0  1  2  3  4  5  6  7  8  9 10 11]\n"
          ]
        }
      ],
      "source": [
        "arreglo_1 = np.arange(0,12)\n",
        "print(arreglo_1)"
      ]
    },
    {
      "cell_type": "code",
      "execution_count": null,
      "metadata": {
        "id": "TeLfAN3wB8g6",
        "outputId": "cfec180f-60e3-44d1-c1bb-de0b8583f08a"
      },
      "outputs": [
        {
          "name": "stdout",
          "output_type": "stream",
          "text": [
            "[ 0.    1.25  2.5   3.75  5.    6.25  7.5   8.75 10.  ]\n"
          ]
        }
      ],
      "source": [
        "arreglo_2 = np.linspace(0,10,9)\n",
        "print(arreglo_2)"
      ]
    },
    {
      "cell_type": "markdown",
      "metadata": {
        "id": "RhqCLi91B8g6"
      },
      "source": [
        "**Ejercicio 3**:\n",
        "* Escribir un arreglo con números enteros del 10 al 100 y seleccionar aquellos que son divisibles por 3<br>\n",
        "Pista: mask"
      ]
    },
    {
      "cell_type": "code",
      "execution_count": null,
      "metadata": {
        "id": "Fc2rg8XyB8g6",
        "outputId": "0eff18c2-908a-4bf0-c93d-0d03dc254acb"
      },
      "outputs": [
        {
          "data": {
            "text/plain": [
              "array([10, 11, 12, 13, 14, 15, 16, 17, 18, 19, 20, 21, 22, 23, 24, 25, 26,\n",
              "       27, 28, 29, 30, 31, 32, 33, 34, 35, 36, 37, 38, 39, 40, 41, 42, 43,\n",
              "       44, 45, 46, 47, 48, 49, 50, 51, 52, 53, 54, 55, 56, 57, 58, 59, 60,\n",
              "       61, 62, 63, 64, 65, 66, 67, 68, 69, 70, 71, 72, 73, 74, 75, 76, 77,\n",
              "       78, 79, 80, 81, 82, 83, 84, 85, 86, 87, 88, 89, 90, 91, 92, 93, 94,\n",
              "       95, 96, 97, 98, 99])"
            ]
          },
          "execution_count": 12,
          "metadata": {},
          "output_type": "execute_result"
        }
      ],
      "source": [
        "a = np.arange(10,100)\n",
        "a"
      ]
    },
    {
      "cell_type": "code",
      "execution_count": null,
      "metadata": {
        "id": "QSWzMGzdB8g7"
      },
      "outputs": [],
      "source": [
        "a = a.reshape(3,3,10)"
      ]
    },
    {
      "cell_type": "code",
      "execution_count": null,
      "metadata": {
        "id": "2_D8gDfQB8g7"
      },
      "outputs": [],
      "source": [
        "mask = a%3==0"
      ]
    },
    {
      "cell_type": "code",
      "execution_count": null,
      "metadata": {
        "id": "rtJ_2RDhB8g7",
        "outputId": "481f2e5e-397c-4621-acb7-0542df17a43b"
      },
      "outputs": [
        {
          "data": {
            "text/plain": [
              "(3, 3, 10)"
            ]
          },
          "execution_count": 15,
          "metadata": {},
          "output_type": "execute_result"
        }
      ],
      "source": [
        "mask.shape"
      ]
    },
    {
      "cell_type": "code",
      "execution_count": null,
      "metadata": {
        "id": "GD2SkLxiB8g8",
        "outputId": "4ca08e0e-f099-4f2e-825d-3e972f25a246"
      },
      "outputs": [
        {
          "data": {
            "text/plain": [
              "array([12, 15, 18, 21, 24, 27, 30, 33, 36, 39, 42, 45, 48, 51, 54, 57, 60,\n",
              "       63, 66, 69, 72, 75, 78, 81, 84, 87, 90, 93, 96, 99])"
            ]
          },
          "execution_count": 16,
          "metadata": {},
          "output_type": "execute_result"
        }
      ],
      "source": [
        "a[mask]"
      ]
    },
    {
      "cell_type": "markdown",
      "metadata": {
        "id": "K4d_sfWkB8g8"
      },
      "source": [
        "**Ejercicio 4**:\n",
        "* Crear un arreglo de ceros de `shape` (5,10).\n",
        "* Reemplazar la segunda y cuarta fila con unos\n",
        "* Reemplazar la tercera y octava columna con dos (2)."
      ]
    },
    {
      "cell_type": "code",
      "execution_count": null,
      "metadata": {
        "id": "PO0PizgUB8g8",
        "outputId": "98416bb6-881b-4e17-e442-2864a53a6d98"
      },
      "outputs": [
        {
          "data": {
            "text/plain": [
              "array([[0., 0., 0., 0., 0., 0., 0., 0., 0., 0.],\n",
              "       [0., 0., 0., 0., 0., 0., 0., 0., 0., 0.],\n",
              "       [0., 0., 0., 0., 0., 0., 0., 0., 0., 0.],\n",
              "       [0., 0., 0., 0., 0., 0., 0., 0., 0., 0.],\n",
              "       [0., 0., 0., 0., 0., 0., 0., 0., 0., 0.]])"
            ]
          },
          "execution_count": 85,
          "metadata": {},
          "output_type": "execute_result"
        }
      ],
      "source": [
        "zeros = np.zeros((5,10))\n",
        "zeros"
      ]
    },
    {
      "cell_type": "code",
      "execution_count": null,
      "metadata": {
        "id": "dMYyvqlhB8g9",
        "outputId": "56003b0a-f8c5-4e3e-924a-8d03b31e6538"
      },
      "outputs": [
        {
          "data": {
            "text/plain": [
              "array([[0., 0., 0., 0., 0., 0., 0., 0., 0., 0.],\n",
              "       [1., 1., 1., 1., 1., 1., 1., 1., 1., 1.],\n",
              "       [0., 0., 0., 0., 0., 0., 0., 0., 0., 0.],\n",
              "       [0., 0., 0., 0., 0., 0., 0., 0., 0., 0.],\n",
              "       [0., 0., 0., 0., 0., 0., 0., 0., 0., 0.]])"
            ]
          },
          "execution_count": 80,
          "metadata": {},
          "output_type": "execute_result"
        }
      ],
      "source": [
        "zeros[1,:] = 1\n",
        "zeros"
      ]
    },
    {
      "cell_type": "code",
      "execution_count": null,
      "metadata": {
        "id": "Knzh8W0lB8g9",
        "outputId": "465af84c-d5f0-4328-c111-9d7b646e69e9"
      },
      "outputs": [
        {
          "data": {
            "text/plain": [
              "array([[0., 0., 0., 1., 1., 0., 0., 0., 0., 0.],\n",
              "       [0., 0., 0., 1., 1., 0., 0., 0., 0., 0.],\n",
              "       [0., 0., 0., 1., 1., 0., 0., 0., 0., 0.],\n",
              "       [0., 0., 0., 1., 1., 0., 0., 0., 0., 0.],\n",
              "       [0., 0., 0., 1., 1., 0., 0., 0., 0., 0.]])"
            ]
          },
          "execution_count": 86,
          "metadata": {},
          "output_type": "execute_result"
        }
      ],
      "source": [
        "zeros[:,3:5] = 1\n",
        "zeros"
      ]
    },
    {
      "cell_type": "code",
      "execution_count": null,
      "metadata": {
        "id": "aGfofid_B8g9",
        "outputId": "aa2dd453-79ec-4d9d-8aef-8780bfd7db54"
      },
      "outputs": [
        {
          "data": {
            "text/plain": [
              "array([[0., 0., 0., 1., 0., 0., 0., 0., 0., 0.],\n",
              "       [1., 1., 1., 1., 1., 1., 1., 1., 1., 1.],\n",
              "       [0., 0., 0., 1., 0., 0., 0., 0., 0., 0.],\n",
              "       [1., 1., 1., 1., 1., 1., 1., 1., 1., 1.],\n",
              "       [0., 0., 0., 1., 0., 0., 0., 0., 0., 0.]])"
            ]
          },
          "execution_count": 66,
          "metadata": {},
          "output_type": "execute_result"
        }
      ],
      "source": [
        "zeros[3,:] = 1\n",
        "zeros"
      ]
    },
    {
      "cell_type": "code",
      "execution_count": null,
      "metadata": {
        "id": "-b-8x5WrB8g-",
        "outputId": "5894a894-0109-41f8-ac22-6f017fbc5e91"
      },
      "outputs": [
        {
          "data": {
            "text/plain": [
              "array([[5., 5., 5., 5., 5., 5., 5., 5., 5., 5.],\n",
              "       [5., 5., 5., 5., 5., 5., 5., 5., 5., 5.],\n",
              "       [5., 5., 5., 5., 5., 5., 5., 5., 5., 5.],\n",
              "       [5., 5., 5., 5., 5., 5., 5., 5., 5., 5.],\n",
              "       [5., 5., 5., 5., 5., 5., 5., 5., 5., 5.]])"
            ]
          },
          "execution_count": 67,
          "metadata": {},
          "output_type": "execute_result"
        }
      ],
      "source": [
        "#zeros[:,2] = 2\n",
        "zeros[:,:] = 5\n",
        "zeros"
      ]
    },
    {
      "cell_type": "code",
      "execution_count": null,
      "metadata": {
        "id": "WmO35xJ7B8g-",
        "outputId": "a8279243-d720-4b5b-ee0f-56c23cbcdd3e"
      },
      "outputs": [
        {
          "name": "stdout",
          "output_type": "stream",
          "text": [
            "65341\n"
          ]
        }
      ],
      "source": [
        "todos = []\n",
        "n = 0\n",
        "lat = -90\n",
        "long = -180\n",
        "while lat < 91:\n",
        "    \n",
        "    while long < 181:\n",
        "        todos.append([lat,long])\n",
        "        n = n + 1\n",
        "        long = long + 1   \n",
        "        \n",
        "    long = -180\n",
        "    lat = lat + 1\n",
        "print(n)"
      ]
    },
    {
      "cell_type": "code",
      "execution_count": null,
      "metadata": {
        "id": "zjYn3HsWB8g-"
      },
      "outputs": [],
      "source": [
        "todos = np.array(todos)"
      ]
    },
    {
      "cell_type": "code",
      "execution_count": null,
      "metadata": {
        "id": "5sVwo1LMB8g_",
        "outputId": "4bc4a2b3-9511-4ecf-ea5b-768fbc5d1810"
      },
      "outputs": [
        {
          "data": {
            "text/plain": [
              "(65341, 2)"
            ]
          },
          "execution_count": 92,
          "metadata": {},
          "output_type": "execute_result"
        }
      ],
      "source": [
        "todos.shape"
      ]
    },
    {
      "cell_type": "markdown",
      "metadata": {
        "id": "UsF5wtRDB8g_"
      },
      "source": [
        "**Ejercicio $\\infty$**:\n",
        "Hacer todos los ejercicios que puedan del siguiente link https://www.machinelearningplus.com/python/101-numpy-exercises-python/\n",
        "\n",
        "O de https://github.com/rougier/numpy-100"
      ]
    },
    {
      "cell_type": "markdown",
      "metadata": {
        "id": "7cYBNwiwB8hA"
      },
      "source": [
        "Para explorar las funciones de creación de datos aleatorios:\n",
        "https://numpy.org/doc/stable/reference/random/legacy.html"
      ]
    },
    {
      "cell_type": "code",
      "execution_count": null,
      "metadata": {
        "id": "RwccVWOtB8hA",
        "outputId": "aa9eb9e7-711e-4ce2-c86b-6b5fae9df0de"
      },
      "outputs": [
        {
          "data": {
            "text/plain": [
              "array([[[137.12277219, 187.22289567, 153.95764007],\n",
              "        [175.21869487, 188.10311988, 118.02508687]],\n",
              "\n",
              "       [[157.58773537, 166.74585121, 134.96866874],\n",
              "        [128.3807111 , 188.91447629, 150.68622952]],\n",
              "\n",
              "       [[168.77296873, 117.90287547, 115.19825164],\n",
              "        [123.86197814, 172.33144425, 165.7329653 ]],\n",
              "\n",
              "       [[157.35784374, 121.82035838, 100.01848734],\n",
              "        [195.39977874, 188.95736542, 121.54200787]]])"
            ]
          },
          "execution_count": 17,
          "metadata": {},
          "output_type": "execute_result"
        }
      ],
      "source": [
        "a = np.random.random((4,2,3)) * 100 + 100\n",
        "a"
      ]
    },
    {
      "cell_type": "code",
      "execution_count": null,
      "metadata": {
        "id": "q-61uVRIB8hA"
      },
      "outputs": [],
      "source": [
        "a = np.random.random((4,4))"
      ]
    },
    {
      "cell_type": "code",
      "execution_count": null,
      "metadata": {
        "id": "yNKEdkYmB8hA",
        "outputId": "93f357ac-d166-4dc9-8d66-bcb8d776dcb4"
      },
      "outputs": [
        {
          "data": {
            "text/plain": [
              "array([[0.48673571, 0.50465005, 0.33227167, 0.86611167],\n",
              "       [0.14502147, 0.13692842, 0.56804006, 0.89177045],\n",
              "       [0.78692331, 0.25942502, 0.88516122, 0.32876297],\n",
              "       [0.78919257, 0.64347772, 0.02402004, 0.66363368]])"
            ]
          },
          "execution_count": 19,
          "metadata": {},
          "output_type": "execute_result"
        }
      ],
      "source": [
        "a"
      ]
    },
    {
      "cell_type": "code",
      "execution_count": null,
      "metadata": {
        "id": "S45eKruTB8hB"
      },
      "outputs": [],
      "source": [
        "a = np.array([[10,200,30,45,5,50],[5,20,30,40,50,0],[5,20,30,40,50,0],[5,20,30,40,50,0]], dtype=np.int8)"
      ]
    },
    {
      "cell_type": "code",
      "execution_count": null,
      "metadata": {
        "id": "ceBAhMnVB8hB",
        "outputId": "ea4f5e2f-e41a-4d6b-b9f7-419c2521fafd"
      },
      "outputs": [
        {
          "data": {
            "text/plain": [
              "array([[ 10, 200,  30,  45,   5, 100],\n",
              "       [  5,  20,  30,  40,  50,   0],\n",
              "       [  5,  20,  30,  40,  50,   0],\n",
              "       [  5,  20,  30,  40,  50,   0]], dtype=int16)"
            ]
          },
          "execution_count": 115,
          "metadata": {},
          "output_type": "execute_result"
        }
      ],
      "source": [
        "a"
      ]
    },
    {
      "cell_type": "code",
      "execution_count": null,
      "metadata": {
        "id": "bwynn6enB8hB",
        "outputId": "43be97c6-cd6b-4036-b061-9151509eae53"
      },
      "outputs": [
        {
          "data": {
            "text/plain": [
              "519"
            ]
          },
          "execution_count": 21,
          "metadata": {},
          "output_type": "execute_result"
        }
      ],
      "source": [
        "a.sum()"
      ]
    },
    {
      "cell_type": "code",
      "execution_count": null,
      "metadata": {
        "id": "y6TNjy7fB8hC",
        "outputId": "3bf0e606-0bfa-4ba8-d278-c38735d2b308"
      },
      "outputs": [
        {
          "data": {
            "text/plain": [
              "23.924904214367643"
            ]
          },
          "execution_count": 22,
          "metadata": {},
          "output_type": "execute_result"
        }
      ],
      "source": [
        "a.std()"
      ]
    },
    {
      "cell_type": "code",
      "execution_count": null,
      "metadata": {
        "id": "UWHBcHcFB8hC"
      },
      "outputs": [],
      "source": [
        "a.sort(axis=1)"
      ]
    },
    {
      "cell_type": "code",
      "execution_count": null,
      "metadata": {
        "id": "HmpqSBgXB8hC",
        "outputId": "5a0b99de-8a04-498b-db0f-c71f693e9163"
      },
      "outputs": [
        {
          "data": {
            "text/plain": [
              "array([[-56,   5,  10,  30,  45,  50],\n",
              "       [  0,   5,  20,  30,  40,  50],\n",
              "       [  0,   5,  20,  30,  40,  50],\n",
              "       [  0,   5,  20,  30,  40,  50]], dtype=int8)"
            ]
          },
          "execution_count": 24,
          "metadata": {},
          "output_type": "execute_result"
        }
      ],
      "source": [
        "a"
      ]
    },
    {
      "cell_type": "code",
      "execution_count": null,
      "metadata": {
        "id": "KjoEOlELB8hD",
        "outputId": "f12d23de-1c5b-490b-ceb6-a79f218cc726"
      },
      "outputs": [
        {
          "data": {
            "text/plain": [
              "array([[-56,   5,  10,  30,  40,  50],\n",
              "       [  0,   5,  20,  30,  40,  50],\n",
              "       [  0,   5,  20,  30,  40,  50],\n",
              "       [  0,   5,  20,  30,  45,  50]], dtype=int8)"
            ]
          },
          "execution_count": 25,
          "metadata": {},
          "output_type": "execute_result"
        }
      ],
      "source": [
        "a.sort(axis=0)\n",
        "a"
      ]
    },
    {
      "cell_type": "code",
      "execution_count": null,
      "metadata": {
        "id": "g8oqqWPuB8hD",
        "outputId": "b3e06705-459c-4ec8-a31f-12ac05d063a6"
      },
      "outputs": [
        {
          "data": {
            "text/plain": [
              "array([[ 0,  5, 20],\n",
              "       [ 0,  5, 20]], dtype=int8)"
            ]
          },
          "execution_count": 26,
          "metadata": {},
          "output_type": "execute_result"
        }
      ],
      "source": [
        "a[1:3,0:3]"
      ]
    },
    {
      "cell_type": "code",
      "execution_count": null,
      "metadata": {
        "id": "mDJUJseGB8hD"
      },
      "outputs": [],
      "source": [
        "l =   [[ 10, 200,  30,  45,   5, 100],\n",
        "       [  5,  20,  30,  40,  50,   0],\n",
        "       [  5,  20,  30,  40,  50,   0],\n",
        "       [  5,  20,  30,  40,  50,   0]]"
      ]
    },
    {
      "cell_type": "code",
      "execution_count": null,
      "metadata": {
        "id": "QJpnY0xBB8hE"
      },
      "outputs": [],
      "source": [
        "a = np.array([l])"
      ]
    },
    {
      "cell_type": "code",
      "execution_count": null,
      "metadata": {
        "id": "2DFJNDk1B8hE",
        "outputId": "b37dcb03-1a30-4a13-85de-c1d22b0f4e1c"
      },
      "outputs": [
        {
          "data": {
            "text/plain": [
              "(1, 4, 6)"
            ]
          },
          "execution_count": 31,
          "metadata": {},
          "output_type": "execute_result"
        }
      ],
      "source": [
        "a.shape"
      ]
    },
    {
      "cell_type": "code",
      "execution_count": null,
      "metadata": {
        "id": "_fo_4RSrB8hE",
        "outputId": "523d9d81-6784-4b76-91b3-89a27b8b32e4"
      },
      "outputs": [
        {
          "data": {
            "text/plain": [
              "array([ 10, 200,  30,  45,   5, 100,   5,  20,  30,  40,  50,   0,   5,\n",
              "        20,  30,  40,  50,   0,   5,  20,  30,  40,  50,   0])"
            ]
          },
          "execution_count": 32,
          "metadata": {},
          "output_type": "execute_result"
        }
      ],
      "source": [
        "a.reshape(24)"
      ]
    },
    {
      "cell_type": "code",
      "execution_count": null,
      "metadata": {
        "id": "Sz3gDBciB8hE",
        "outputId": "789fe2c7-aa39-44e8-e594-a9527654b438"
      },
      "outputs": [
        {
          "name": "stdout",
          "output_type": "stream",
          "text": [
            "[[1 2 3 4 5 6]]\n"
          ]
        }
      ],
      "source": [
        "a = np.matrix([[1,2,3,4,5,6]]) \n",
        "print(a) "
      ]
    },
    {
      "cell_type": "code",
      "execution_count": null,
      "metadata": {
        "id": "hGfxQ1yPB8hF",
        "outputId": "4cef3c71-67ea-4075-b66d-53a37bf35a1a"
      },
      "outputs": [
        {
          "name": "stdout",
          "output_type": "stream",
          "text": [
            "[[1]\n",
            " [2]\n",
            " [3]\n",
            " [4]\n",
            " [5]\n",
            " [6]]\n"
          ]
        }
      ],
      "source": [
        "b = np.matrix([[1],[2],[3],[4],[5],[6]]) \n",
        "print(b) "
      ]
    },
    {
      "cell_type": "code",
      "execution_count": null,
      "metadata": {
        "id": "KyDOAMxiB8hF",
        "outputId": "2608dd97-e64e-432b-cbff-aba3bc44f160"
      },
      "outputs": [
        {
          "name": "stdout",
          "output_type": "stream",
          "text": [
            "[[91]]\n"
          ]
        }
      ],
      "source": [
        "c = a * b \n",
        "print(c) "
      ]
    },
    {
      "cell_type": "code",
      "execution_count": null,
      "metadata": {
        "id": "4lrD3OPdB8hF",
        "outputId": "405d8733-ae07-4216-af1a-f6299d8db87a"
      },
      "outputs": [
        {
          "name": "stdout",
          "output_type": "stream",
          "text": [
            "[[ 1  2  3  4  5  6]\n",
            " [ 2  4  6  8 10 12]\n",
            " [ 3  6  9 12 15 18]\n",
            " [ 4  8 12 16 20 24]\n",
            " [ 5 10 15 20 25 30]\n",
            " [ 6 12 18 24 30 36]]\n"
          ]
        }
      ],
      "source": [
        "d = b * a \n",
        "print(d)"
      ]
    }
  ],
  "metadata": {
    "kernelspec": {
      "display_name": "Python 3 (ipykernel)",
      "language": "python",
      "name": "python3"
    },
    "language_info": {
      "codemirror_mode": {
        "name": "ipython",
        "version": 3
      },
      "file_extension": ".py",
      "mimetype": "text/x-python",
      "name": "python",
      "nbconvert_exporter": "python",
      "pygments_lexer": "ipython3",
      "version": "3.9.7"
    },
    "colab": {
      "name": "Homework Resuelto.ipynb",
      "provenance": [],
      "include_colab_link": true
    }
  },
  "nbformat": 4,
  "nbformat_minor": 0
}